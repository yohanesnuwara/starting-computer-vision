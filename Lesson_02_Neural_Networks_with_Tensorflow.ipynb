{
  "nbformat": 4,
  "nbformat_minor": 0,
  "metadata": {
    "colab": {
      "name": "tensorflow-pytorch-tutorial.ipynb",
      "provenance": [],
      "collapsed_sections": [],
      "authorship_tag": "ABX9TyN05yKQzvgQOfoY1f7dEfiQ",
      "include_colab_link": true
    },
    "kernelspec": {
      "name": "python3",
      "display_name": "Python 3"
    },
    "language_info": {
      "name": "python"
    }
  },
  "cells": [
    {
      "cell_type": "markdown",
      "metadata": {
        "id": "view-in-github",
        "colab_type": "text"
      },
      "source": [
        "<a href=\"https://colab.research.google.com/github/yohanesnuwara/starting-computer-vision/blob/main/Lesson_02_Neural_Networks_with_Tensorflow.ipynb\" target=\"_parent\"><img src=\"https://colab.research.google.com/assets/colab-badge.svg\" alt=\"Open In Colab\"/></a>"
      ]
    },
    {
      "cell_type": "markdown",
      "source": [
        "# Intro to Neural Network\n",
        "<!--\n",
        "![neural net note](https://user-images.githubusercontent.com/51282928/173242035-456b93f6-98f4-42e5-9204-e5dfd1c8a92f.png)\n",
        "-->"
      ],
      "metadata": {
        "id": "bOYF4hWVoSn7"
      }
    },
    {
      "cell_type": "code",
      "execution_count": null,
      "metadata": {
        "id": "Jfuz-wBLxa9y"
      },
      "outputs": [],
      "source": [
        "import matplotlib.pyplot as plt\n",
        "\n",
        "# tensorflow\n",
        "import tensorflow as tf\n",
        "import tensorflow_datasets as tfds\n",
        "from tensorflow.keras.models import Sequential\n",
        "from tensorflow.keras.layers import Dense, Flatten\n",
        "\n",
        "# pytorch\n",
        "import torch\n",
        "from torch import nn\n",
        "from torchvision import transforms, datasets\n",
        "from torch import optim"
      ]
    },
    {
      "cell_type": "markdown",
      "source": [
        "Tensorflow --> neural network \n",
        "\n",
        "1. regression\n",
        "predict monthly spending based on your daily menu, clothes, rents, ... (regression) --> y = f(x)\n",
        "f --> machine learning models (Support Vector Machine, Random Forest, Boosting), neural network (composed neurons, numbers arranged in some way can mimic neuron)\n",
        "machine learning --> train data so that your model fits your data i.e. 100 iterations\n",
        "\n",
        "y = Ax+B --> A, B is unknown --> adjust through those iterations A, B fits and known\n",
        "\n",
        "2. classification\n",
        "predict monthly spending based on your daily menu, clothes, rents, ... (regression) --> y = f(x)\n",
        "\n",
        "Neural network is a model\n",
        "\n",
        "1. Dense neural network (DNN) / artif. neural network (ANN) / fully connected neural network (FCNN) / feed forward neural network (FF) / deep neural network (DNN) --> for any job, including image but not so efficient! Because image needs to be flattened\n",
        "2. Convolutional neural net (CNN) --> specifically for images\n",
        "\n",
        "Principle: the more you learn, you know more about something\n",
        "\n",
        "![sssss](https://i0.wp.com/vinodsblog.com/wp-content/uploads/2018/10/CNN-2.png)\n",
        "\n"
      ],
      "metadata": {
        "id": "nT8XJHy7PfR3"
      }
    },
    {
      "cell_type": "code",
      "source": [
        "import matplotlib.pyplot as plt\n",
        "\n",
        "# tensorflow\n",
        "import tensorflow as tf\n",
        "from keras.datasets import mnist\n",
        "from keras.models import Sequential\n",
        "from keras.layers import Flatten, Dense"
      ],
      "metadata": {
        "id": "A9TrerHwWA4t"
      },
      "execution_count": null,
      "outputs": []
    },
    {
      "cell_type": "markdown",
      "source": [
        "# Deep Neural Network to classify handwritten digits (flatten)"
      ],
      "metadata": {
        "id": "91GntRQVUKkL"
      }
    },
    {
      "cell_type": "markdown",
      "source": [
        "MNIST is a grayscale image. Grayscale image has only 1 channel."
      ],
      "metadata": {
        "id": "y1UymCUQjxU5"
      }
    },
    {
      "cell_type": "markdown",
      "source": [
        "## Tensorflow"
      ],
      "metadata": {
        "id": "sp8BglGSUXvv"
      }
    },
    {
      "cell_type": "markdown",
      "source": [
        "X --> image\n",
        "y --> label"
      ],
      "metadata": {
        "id": "ayrmbLJuXrsg"
      }
    },
    {
      "cell_type": "code",
      "source": [
        "images = mnist.load_data()\n",
        "train, test = images\n",
        "X_train, y_train = train\n",
        "X_test, y_test = test"
      ],
      "metadata": {
        "id": "tbPy8nS4ZZLj"
      },
      "execution_count": null,
      "outputs": []
    },
    {
      "cell_type": "code",
      "source": [
        "# load dataset; separate train and test\n",
        "# train, test = mnist.load_data()\n",
        "(X_train, y_train), (X_test, y_test) = mnist.load_data()\n",
        "\n",
        "print(X_train.shape)\n",
        "print(y_train.shape)\n",
        "print(X_test.shape)\n",
        "print(y_test.shape)"
      ],
      "metadata": {
        "colab": {
          "base_uri": "https://localhost:8080/"
        },
        "id": "qYS0TcKrho_3",
        "outputId": "689049a3-9f6c-41a5-b760-6004c227e244"
      },
      "execution_count": null,
      "outputs": [
        {
          "output_type": "stream",
          "name": "stdout",
          "text": [
            "(60000, 28, 28)\n",
            "(60000,)\n",
            "(10000, 28, 28)\n",
            "(10000,)\n"
          ]
        }
      ]
    },
    {
      "cell_type": "code",
      "source": [
        "# visualize first image\n",
        "img = X_train[50]\n",
        "plt.imshow(img, cmap='gray')"
      ],
      "metadata": {
        "colab": {
          "base_uri": "https://localhost:8080/",
          "height": 283
        },
        "id": "DLMPT7bHYWtm",
        "outputId": "99945f13-3dac-4ab3-f0fc-6038254d5d58"
      },
      "execution_count": null,
      "outputs": [
        {
          "output_type": "execute_result",
          "data": {
            "text/plain": [
              "<matplotlib.image.AxesImage at 0x7f3504536850>"
            ]
          },
          "metadata": {},
          "execution_count": 46
        },
        {
          "output_type": "display_data",
          "data": {
            "text/plain": [
              "<Figure size 432x288 with 1 Axes>"
            ],
            "image/png": "[encoded data removed]"
          },
          "metadata": {
            "needs_background": "light"
          }
        }
      ]
    },
    {
      "cell_type": "code",
      "source": [
        "for i in range(9):\n",
        "  print(i)"
      ],
      "metadata": {
        "colab": {
          "base_uri": "https://localhost:8080/"
        },
        "id": "z6YDVfrhYzNR",
        "outputId": "847cc776-ac82-4f22-ee7b-4893ad7710d1"
      },
      "execution_count": null,
      "outputs": [
        {
          "output_type": "stream",
          "name": "stdout",
          "text": [
            "0\n",
            "1\n",
            "2\n",
            "3\n",
            "4\n",
            "5\n",
            "6\n",
            "7\n",
            "8\n"
          ]
        }
      ]
    },
    {
      "cell_type": "code",
      "source": [
        "# Visualize first 9 images\n",
        "for i in range(12):\n",
        "  plt.subplot(4,3,i+1)\n",
        "  plt.imshow(X_train[i,...], cmap='gray')\n",
        "  plt.title(f'Label: {y_train[i]}')\n",
        "  plt.axis('off')\n",
        "\n",
        "plt.tight_layout()\n"
      ],
      "metadata": {
        "colab": {
          "base_uri": "https://localhost:8080/",
          "height": 297
        },
        "id": "OEA9N0PIianC",
        "outputId": "10ceea40-6597-4c71-b273-df8ccd4ae9ba"
      },
      "execution_count": null,
      "outputs": [
        {
          "output_type": "display_data",
          "data": {
            "text/plain": [
              "<Figure size 432x288 with 12 Axes>"
            ],
            "image/png": "[encoded data removed]"
          },
          "metadata": {
            "needs_background": "light"
          }
        }
      ]
    },
    {
      "cell_type": "code",
      "source": [
        "image = X_train[0]\n",
        "image_norm = image / 255.\n",
        "\n",
        "plt.subplot(1,2,1)\n",
        "plt.imshow(image)\n",
        "\n",
        "plt.subplot(1,2,2)\n",
        "plt.imshow(image_norm)"
      ],
      "metadata": {
        "colab": {
          "base_uri": "https://localhost:8080/",
          "height": 219
        },
        "id": "aOFpEAmHZzHI",
        "outputId": "d05d9f67-6e9b-4c0e-b291-4301cd67faf7"
      },
      "execution_count": null,
      "outputs": [
        {
          "output_type": "execute_result",
          "data": {
            "text/plain": [
              "<matplotlib.image.AxesImage at 0x7f350414f9d0>"
            ]
          },
          "metadata": {},
          "execution_count": 49
        },
        {
          "output_type": "display_data",
          "data": {
            "text/plain": [
              "<Figure size 432x288 with 2 Axes>"
            ],
            "image/png": "[encoded data removed]"
          },
          "metadata": {
            "needs_background": "light"
          }
        }
      ]
    },
    {
      "cell_type": "markdown",
      "source": [
        "Neural network will learn better when image is normalize"
      ],
      "metadata": {
        "id": "sN_mvGC-ZuQI"
      }
    },
    {
      "cell_type": "code",
      "source": [
        "# Normalize divide by 255\n",
        "X_train = X_train.astype('float32') / 255\n",
        "X_test = X_test.astype('float32') / 255\n"
      ],
      "metadata": {
        "id": "TDH_QOMki2V9"
      },
      "execution_count": null,
      "outputs": []
    },
    {
      "cell_type": "markdown",
      "source": [
        "There are ways to increase accuracy\n",
        "1. increase number of neurons\n",
        "2. increase number of epochs (iterations)\n",
        "3. "
      ],
      "metadata": {
        "id": "-hQN1QGocV94"
      }
    },
    {
      "cell_type": "code",
      "source": [
        "model = Sequential([Flatten(input_shape=(28, 28)),\n",
        "                    Dense(128, activation='relu'),\n",
        "                    Dense(60, activation='relu'),\n",
        "                    Dense(10, activation='softmax')])\n",
        "model.summary()"
      ],
      "metadata": {
        "colab": {
          "base_uri": "https://localhost:8080/"
        },
        "id": "RQsNON_AkC5Y",
        "outputId": "d17e9cc3-0957-434f-8748-0526c7759830"
      },
      "execution_count": null,
      "outputs": [
        {
          "output_type": "stream",
          "name": "stdout",
          "text": [
            "Model: \"sequential\"\n",
            "_________________________________________________________________\n",
            " Layer (type)                Output Shape              Param #   \n",
            "=================================================================\n",
            " flatten (Flatten)           (None, 784)               0         \n",
            "                                                                 \n",
            " dense (Dense)               (None, 128)               100480    \n",
            "                                                                 \n",
            " dense_1 (Dense)             (None, 60)                7740      \n",
            "                                                                 \n",
            " dense_2 (Dense)             (None, 10)                610       \n",
            "                                                                 \n",
            "=================================================================\n",
            "Total params: 108,830\n",
            "Trainable params: 108,830\n",
            "Non-trainable params: 0\n",
            "_________________________________________________________________\n"
          ]
        }
      ]
    },
    {
      "cell_type": "code",
      "source": [
        "model.compile(\n",
        "    optimizer=tf.keras.optimizers.Adam(0.001), # SGD, RMSProp, AdaGrad\n",
        "    loss=tf.keras.losses.SparseCategoricalCrossentropy(), \n",
        "    metrics=[tf.keras.metrics.SparseCategoricalAccuracy()], \n",
        ")"
      ],
      "metadata": {
        "id": "_Q5f36HSkLFA"
      },
      "execution_count": null,
      "outputs": []
    },
    {
      "cell_type": "code",
      "source": [
        "model.fit(X_train, y_train, epochs=5, batch_size=64)"
      ],
      "metadata": {
        "colab": {
          "base_uri": "https://localhost:8080/"
        },
        "id": "OnqejnckkSQH",
        "outputId": "241775d9-554c-4edb-dbc0-e75055e244cd"
      },
      "execution_count": null,
      "outputs": [
        {
          "output_type": "stream",
          "name": "stdout",
          "text": [
            "Epoch 1/5\n",
            "938/938 [==============================] - 3s 3ms/step - loss: 0.2772 - sparse_categorical_accuracy: 0.9193\n",
            "Epoch 2/5\n",
            "938/938 [==============================] - 4s 4ms/step - loss: 0.1171 - sparse_categorical_accuracy: 0.9649\n",
            "Epoch 3/5\n",
            "938/938 [==============================] - 3s 3ms/step - loss: 0.0801 - sparse_categorical_accuracy: 0.9751\n",
            "Epoch 4/5\n",
            "938/938 [==============================] - 3s 3ms/step - loss: 0.0604 - sparse_categorical_accuracy: 0.9816\n",
            "Epoch 5/5\n",
            "938/938 [==============================] - 3s 3ms/step - loss: 0.0469 - sparse_categorical_accuracy: 0.9851\n"
          ]
        },
        {
          "output_type": "execute_result",
          "data": {
            "text/plain": [
              "<keras.callbacks.History at 0x7f3504217190>"
            ]
          },
          "metadata": {},
          "execution_count": 54
        }
      ]
    },
    {
      "cell_type": "markdown",
      "source": [
        "Overfitting, underfitting\n",
        "\n",
        "2 ways to overcome overfitting:\n",
        "1. Batch normalization layer\n",
        "2. Droput layer"
      ],
      "metadata": {
        "id": "iDiqCj-LisQy"
      }
    },
    {
      "cell_type": "code",
      "source": [
        "# loss, acc = model.evaluate(X_test, y_test, batch_size=64)\n",
        "# print(\"\\nTest accuracy: %.1f%%\" % (100.0 * acc))"
      ],
      "metadata": {
        "id": "T18XrdAMedkS"
      },
      "execution_count": null,
      "outputs": []
    },
    {
      "cell_type": "code",
      "source": [
        "model"
      ],
      "metadata": {
        "colab": {
          "base_uri": "https://localhost:8080/"
        },
        "id": "pEYU6Si1kWwq",
        "outputId": "94660477-f684-46ed-a944-d861919e5286"
      },
      "execution_count": null,
      "outputs": [
        {
          "output_type": "execute_result",
          "data": {
            "text/plain": [
              "<keras.engine.sequential.Sequential at 0x7f35040d9890>"
            ]
          },
          "metadata": {},
          "execution_count": 57
        }
      ]
    },
    {
      "cell_type": "code",
      "source": [
        "import numpy as np\n",
        "\n",
        "pred = model.predict(X_test)\n",
        "y_pred = np.argmax(pred, axis=1) # classes\n",
        "\n",
        "y_pred"
      ],
      "metadata": {
        "colab": {
          "base_uri": "https://localhost:8080/"
        },
        "id": "hS8VlG4PrF6o",
        "outputId": "058ac325-d238-459d-a698-1deb9093bd8b"
      },
      "execution_count": null,
      "outputs": [
        {
          "output_type": "execute_result",
          "data": {
            "text/plain": [
              "array([7, 2, 1, ..., 4, 5, 6])"
            ]
          },
          "metadata": {},
          "execution_count": 59
        }
      ]
    },
    {
      "cell_type": "code",
      "source": [
        "plt.imshow(X_test[1])"
      ],
      "metadata": {
        "colab": {
          "base_uri": "https://localhost:8080/",
          "height": 283
        },
        "id": "vQLNM_OWksZt",
        "outputId": "98658c0c-d844-4f78-a77d-37cf09754305"
      },
      "execution_count": null,
      "outputs": [
        {
          "output_type": "execute_result",
          "data": {
            "text/plain": [
              "<matplotlib.image.AxesImage at 0x7f34fedd8c10>"
            ]
          },
          "metadata": {},
          "execution_count": 61
        },
        {
          "output_type": "display_data",
          "data": {
            "text/plain": [
              "<Figure size 432x288 with 1 Axes>"
            ],
            "image/png": "[encoded data removed]"
          },
          "metadata": {
            "needs_background": "light"
          }
        }
      ]
    },
    {
      "cell_type": "markdown",
      "source": [
        "accuracy = number of true predictions / total of number prediction\n",
        "\n",
        "total prediction = 100\n",
        "\n",
        "true prediction = 30\n",
        "\n",
        "accuracy = 30%"
      ],
      "metadata": {
        "id": "GaABAkR2kzsb"
      }
    },
    {
      "cell_type": "code",
      "source": [
        "y_pred"
      ],
      "metadata": {
        "colab": {
          "base_uri": "https://localhost:8080/"
        },
        "id": "eN2M0iExlFsg",
        "outputId": "d7f0c3dd-33c6-4447-b22a-bfaac12a6ca1"
      },
      "execution_count": null,
      "outputs": [
        {
          "output_type": "execute_result",
          "data": {
            "text/plain": [
              "array([7, 2, 1, ..., 4, 5, 6])"
            ]
          },
          "metadata": {},
          "execution_count": 63
        }
      ]
    },
    {
      "cell_type": "code",
      "source": [
        "y_test"
      ],
      "metadata": {
        "colab": {
          "base_uri": "https://localhost:8080/"
        },
        "id": "sEI0IS6TlDRF",
        "outputId": "0ba16167-f2a0-4ba9-8b87-d93c2206926a"
      },
      "execution_count": null,
      "outputs": [
        {
          "output_type": "execute_result",
          "data": {
            "text/plain": [
              "array([7, 2, 1, ..., 4, 5, 6], dtype=uint8)"
            ]
          },
          "metadata": {},
          "execution_count": 62
        }
      ]
    },
    {
      "cell_type": "code",
      "source": [
        "(y_pred==y_test).sum()"
      ],
      "metadata": {
        "colab": {
          "base_uri": "https://localhost:8080/"
        },
        "id": "zlckH_i9ky1F",
        "outputId": "3301ece6-9625-4b27-adaf-3a9c85b351d3"
      },
      "execution_count": null,
      "outputs": [
        {
          "output_type": "execute_result",
          "data": {
            "text/plain": [
              "9727"
            ]
          },
          "metadata": {},
          "execution_count": 66
        }
      ]
    },
    {
      "cell_type": "code",
      "source": [
        "print(y_test)\n",
        "print(y_pred)\n",
        "print(len(y_test))\n",
        "print((y_test == y_pred).sum().item())"
      ],
      "metadata": {
        "colab": {
          "base_uri": "https://localhost:8080/"
        },
        "id": "s4aVMDAKySrR",
        "outputId": "6b19df91-54dd-4615-8077-efd431c5d854"
      },
      "execution_count": null,
      "outputs": [
        {
          "output_type": "stream",
          "name": "stdout",
          "text": [
            "[7 2 1 ... 4 5 6]\n",
            "[7 2 1 ... 4 5 6]\n",
            "10000\n",
            "9775\n"
          ]
        }
      ]
    },
    {
      "cell_type": "code",
      "source": [
        "### ARTICLE ON TENSORFLOW DATALOADER: https://www.tensorflow.org/datasets/keras_example\n",
        "\n",
        "# (ds_train, ds_test), ds_info = tfds.load(\n",
        "#     'mnist',\n",
        "#     split=['train', 'test'],\n",
        "#     shuffle_files=True,\n",
        "#     as_supervised=True,\n",
        "#     with_info=True,\n",
        "# )"
      ],
      "metadata": {
        "id": "oqqM75EwUZd-"
      },
      "execution_count": null,
      "outputs": []
    },
    {
      "cell_type": "code",
      "source": [
        "# def normalize_img(image, label):\n",
        "#   \"\"\"Normalizes images: `uint8` -> `float32`.\"\"\"\n",
        "#   return tf.cast(image, tf.float32) / 255., label\n",
        "\n",
        "# # Normalize train dataset\n",
        "# ds_train = ds_train.map(normalize_img, num_parallel_calls=tf.data.AUTOTUNE)\n",
        "# ds_train = ds_train.cache()\n",
        "# ds_train = ds_train.shuffle(ds_info.splits['train'].num_examples)\n",
        "# ds_train = ds_train.batch(128)\n",
        "# ds_train = ds_train.prefetch(tf.data.AUTOTUNE)\n",
        "\n",
        "# # Normalize test dataset\n",
        "# ds_test = ds_test.map(normalize_img, num_parallel_calls=tf.data.AUTOTUNE)\n",
        "# ds_test = ds_test.batch(128)\n",
        "# ds_test = ds_test.cache()\n",
        "# ds_test = ds_test.prefetch(tf.data.AUTOTUNE)"
      ],
      "metadata": {
        "id": "GIW6c_xWXtO-"
      },
      "execution_count": null,
      "outputs": []
    },
    {
      "cell_type": "code",
      "source": [
        "# model = Sequential([Flatten(input_shape=(28, 28)),\n",
        "#                     Dense(128, activation='relu'),\n",
        "#                     Dense(60, activation='relu'),\n",
        "#                     Dense(10, activation='softmax')])\n",
        "# model.summary()"
      ],
      "metadata": {
        "id": "4vKRjRRZdDP0"
      },
      "execution_count": null,
      "outputs": []
    },
    {
      "cell_type": "code",
      "source": [
        "# model.compile(\n",
        "#     optimizer=tf.keras.optimizers.Adam(0.001),\n",
        "#     loss=tf.keras.losses.SparseCategoricalCrossentropy(from_logits=True),\n",
        "#     metrics=[tf.keras.metrics.SparseCategoricalAccuracy()],\n",
        "# )"
      ],
      "metadata": {
        "id": "WsTAHaqveP2S"
      },
      "execution_count": null,
      "outputs": []
    },
    {
      "cell_type": "code",
      "source": [
        "# model.fit(\n",
        "#     ds_train,\n",
        "#     epochs=6,\n",
        "#     validation_data=ds_test,\n",
        "# )"
      ],
      "metadata": {
        "id": "JwHNgmx_eXbk"
      },
      "execution_count": null,
      "outputs": []
    },
    {
      "cell_type": "markdown",
      "source": [
        "## PyTorch"
      ],
      "metadata": {
        "id": "aHwxLi1jUV9-"
      }
    },
    {
      "cell_type": "markdown",
      "source": [
        "https://analyticsindiamag.com/guide-to-feed-forward-network-using-pytorch-with-mnist-dataset/"
      ],
      "metadata": {
        "id": "oTRjoGX1xulp"
      }
    },
    {
      "cell_type": "code",
      "source": [
        "# class Network(nn.Module):\n",
        "#     def __init__(self):\n",
        "#         super().__init__()\n",
        "        \n",
        "#         # Inputs to hidden layer linear transformation\n",
        "#         self.hidden = nn.Linear(784, 256)\n",
        "#         # Output layer, 10 units - one for each digit\n",
        "#         self.output = nn.Linear(256, 10)\n",
        "        \n",
        "#         # Define sigmoid activation and softmax output \n",
        "#         self.sigmoid = nn.Sigmoid()\n",
        "#         self.softmax = nn.Softmax(dim=1)\n",
        "        \n",
        "#     def forward(self, x):\n",
        "#         # Pass the input tensor through each of our operations\n",
        "#         x = self.hidden(x)\n",
        "#         x = self.sigmoid(x)\n",
        "#         x = self.output(x)\n",
        "#         x = self.softmax(x)\n",
        "        \n",
        "#         return x\n",
        "\n",
        "# # Create the network and look at it's text representation\n",
        "# model = Network()\n",
        "# model"
      ],
      "metadata": {
        "colab": {
          "base_uri": "https://localhost:8080/"
        },
        "id": "0z0IP7s9yehQ",
        "outputId": "d5eab726-31aa-4010-91c0-9b3fa5200dbb"
      },
      "execution_count": null,
      "outputs": [
        {
          "output_type": "execute_result",
          "data": {
            "text/plain": [
              "Network(\n",
              "  (hidden): Linear(in_features=784, out_features=256, bias=True)\n",
              "  (output): Linear(in_features=256, out_features=10, bias=True)\n",
              "  (sigmoid): Sigmoid()\n",
              "  (softmax): Softmax(dim=1)\n",
              ")"
            ]
          },
          "metadata": {},
          "execution_count": 2
        }
      ]
    },
    {
      "cell_type": "code",
      "source": [
        "# Hyperparameters for our network\n",
        "input_size = 784\n",
        "hidden_sizes = [128, 64]\n",
        "output_size = 10\n",
        "\n",
        "# Build a feed-forward network\n",
        "model = nn.Sequential(nn.Linear(input_size, hidden_sizes[0]),\n",
        "                      nn.ReLU(),\n",
        "                      nn.Linear(hidden_sizes[0], hidden_sizes[1]),\n",
        "                      nn.ReLU(),\n",
        "                      nn.Linear(hidden_sizes[1], output_size),\n",
        "                      nn.LogSoftmax(dim=1))\n",
        "print(model)"
      ],
      "metadata": {
        "colab": {
          "base_uri": "https://localhost:8080/"
        },
        "id": "hLkGCyPwyrLC",
        "outputId": "6306e938-b68f-497e-abcc-3d8a69f22a23"
      },
      "execution_count": null,
      "outputs": [
        {
          "output_type": "stream",
          "name": "stdout",
          "text": [
            "Sequential(\n",
            "  (0): Linear(in_features=784, out_features=128, bias=True)\n",
            "  (1): ReLU()\n",
            "  (2): Linear(in_features=128, out_features=64, bias=True)\n",
            "  (3): ReLU()\n",
            "  (4): Linear(in_features=64, out_features=10, bias=True)\n",
            "  (5): LogSoftmax(dim=1)\n",
            ")\n"
          ]
        }
      ]
    },
    {
      "cell_type": "code",
      "source": [
        "# Define a transform to normalize the data\n",
        "transform = transforms.Compose([transforms.ToTensor(),\n",
        "                                transforms.Normalize((0.5,), (0.5,)),\n",
        "                              ])\n",
        "\n",
        "# Download and load the training data\n",
        "trainset = datasets.MNIST('~/.pytorch/MNIST_data/', download=True, train=True, transform=transform)\n",
        "testset = datasets.MNIST('~/.pytorch/MNIST_data/', train=False, transform=transform)\n",
        "\n",
        "trainloader = torch.utils.data.DataLoader(trainset, batch_size=64, shuffle=True)\n",
        "testloader = torch.utils.data.DataLoader(testset, batch_size=64, shuffle=False)\n"
      ],
      "metadata": {
        "id": "jaAZoDMtzYc1"
      },
      "execution_count": null,
      "outputs": []
    },
    {
      "cell_type": "code",
      "source": [
        "examples = iter(trainloader)\n",
        "\n",
        "# Unwrap to get image array and label\n",
        "# Image array has shape (number of images,number of channel,image width, image height)\n",
        "example_data, example_targets = examples.next()\n",
        "\n",
        "for i in range(9):\n",
        "    plt.subplot(3,3,i+1)\n",
        "    plt.imshow(example_data[i][0], cmap='gray')\n",
        "    plt.axis('off')\n",
        "plt.show()"
      ],
      "metadata": {
        "colab": {
          "base_uri": "https://localhost:8080/",
          "height": 248
        },
        "id": "KRJHrvnuBv-Z",
        "outputId": "16ff9ca7-7a16-417c-fabe-3eb287e68283"
      },
      "execution_count": null,
      "outputs": [
        {
          "output_type": "display_data",
          "data": {
            "text/plain": [
              "<Figure size 432x288 with 9 Axes>"
            ],
            "image/png": "[encoded data removed]"
          },
          "metadata": {
            "needs_background": "light"
          }
        }
      ]
    },
    {
      "cell_type": "code",
      "source": [
        "# device = torch.device('cuda' if torch.cuda.is_available() else 'cpu')"
      ],
      "metadata": {
        "id": "S9L_JIqGFizM"
      },
      "execution_count": null,
      "outputs": []
    },
    {
      "cell_type": "code",
      "source": [
        "\n",
        "\n",
        "# model = nn.Sequential(nn.Linear(784, 128),\n",
        "#                       nn.ReLU(),\n",
        "#                       nn.Linear(128, 64),\n",
        "#                       nn.ReLU(),\n",
        "#                       nn.Linear(64, 10),\n",
        "#                       nn.LogSoftmax(dim=1))\n",
        "\n",
        "# Define the loss\n",
        "criterion = nn.NLLLoss()\n",
        "\n",
        "# Optimizers require the parameters to optimize and a learning rate\n",
        "optimizer = optim.SGD(model.parameters(), lr=0.003)\n",
        "epochs = 5\n",
        "for e in range(epochs):\n",
        "    running_loss = 0\n",
        "    for images, labels in trainloader:\n",
        "        # Flatten MNIST images into a 784 long vector\n",
        "        # images = images.view(images.shape[0], -1)\n",
        "        images = images.reshape(-1, 28*28)\n",
        "    \n",
        "        # Training pass\n",
        "        optimizer.zero_grad()\n",
        "        \n",
        "        output = model(images)\n",
        "        loss = criterion(output, labels)\n",
        "        loss.backward()\n",
        "        optimizer.step()\n",
        "        \n",
        "        running_loss += loss.item()\n",
        "    else:\n",
        "        print(f\"Training loss: {running_loss/len(trainloader)}\")"
      ],
      "metadata": {
        "id": "aVBEp3qK2BWq",
        "colab": {
          "base_uri": "https://localhost:8080/"
        },
        "outputId": "b8cfae0c-59f4-47ac-9975-da90b19cd6e4"
      },
      "execution_count": null,
      "outputs": [
        {
          "output_type": "stream",
          "name": "stdout",
          "text": [
            "Training loss: 0.291103703079066\n",
            "Training loss: 0.28308796533929514\n",
            "Training loss: 0.2752769161214325\n",
            "Training loss: 0.26767069577916597\n",
            "Training loss: 0.2605150051351422\n"
          ]
        }
      ]
    },
    {
      "cell_type": "code",
      "source": [
        "examples = iter(testloader)\n",
        "\n",
        "# Unwrap to get image array and label\n",
        "# Image array has shape (number of images,number of channel,image width, image height)\n",
        "example_data, example_targets = examples.next()\n",
        "\n",
        "with torch.no_grad():\n",
        "  X_test = example_data.reshape(-1, 28*28)\n",
        "  y_pred = model(X_test)\n",
        "\n",
        "  _, predicted = torch.max(y_pred.data, 1)\n",
        "  print(example_targets)\n",
        "  print(predicted)\n",
        "\n",
        "  # Calculate accuracy\n",
        "  print(len(example_targets))\n",
        "  print((example_targets == predicted).sum().item())"
      ],
      "metadata": {
        "colab": {
          "base_uri": "https://localhost:8080/"
        },
        "id": "nHIqsiPuGQ1_",
        "outputId": "a9b7d564-27c6-40a6-a8d4-0ec687dcce69"
      },
      "execution_count": null,
      "outputs": [
        {
          "output_type": "stream",
          "name": "stdout",
          "text": [
            "tensor([7, 2, 1, 0, 4, 1, 4, 9, 5, 9, 0, 6, 9, 0, 1, 5, 9, 7, 3, 4, 9, 6, 6, 5,\n",
            "        4, 0, 7, 4, 0, 1, 3, 1, 3, 4, 7, 2, 7, 1, 2, 1, 1, 7, 4, 2, 3, 5, 1, 2,\n",
            "        4, 4, 6, 3, 5, 5, 6, 0, 4, 1, 9, 5, 7, 8, 9, 3])\n",
            "tensor([7, 2, 1, 0, 4, 1, 4, 9, 6, 9, 0, 6, 9, 0, 1, 5, 9, 7, 3, 4, 9, 6, 6, 5,\n",
            "        4, 0, 7, 4, 0, 1, 3, 1, 3, 6, 7, 2, 7, 1, 2, 1, 1, 7, 4, 2, 3, 5, 3, 2,\n",
            "        4, 4, 6, 3, 5, 5, 6, 0, 4, 1, 9, 5, 7, 8, 4, 2])\n",
            "64\n",
            "59\n"
          ]
        }
      ]
    }
  ]
}